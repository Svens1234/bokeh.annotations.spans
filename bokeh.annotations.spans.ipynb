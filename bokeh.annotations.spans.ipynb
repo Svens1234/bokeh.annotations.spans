{
 "cells": [
  {
   "cell_type": "code",
   "execution_count": 1,
   "id": "7e3a563e",
   "metadata": {},
   "outputs": [],
   "source": [
    "import time\n",
    "from datetime import datetime as dt\n",
    "from bokeh.models import Span\n",
    "from bokeh.plotting import figure, output_file, show\n",
    "from bokeh.sampledata.daylight import daylight_warsaw_2013"
   ]
  },
  {
   "cell_type": "code",
   "execution_count": 2,
   "id": "1484df0f",
   "metadata": {},
   "outputs": [],
   "source": [
    "output_file(\"span.html\", title=\"span.py example\")\n",
    "\n",
    "p = figure(x_axis_type=\"datetime\", y_axis_type=\"datetime\")\n",
    "\n",
    "p.line(daylight_warsaw_2013.Date, daylight_warsaw_2013.Sunset,\n",
    "       line_color='#0072B2', line_dash='solid', line_width=2,\n",
    "       legend_label=\"Sunset\")\n",
    "p.line(daylight_warsaw_2013.Date, daylight_warsaw_2013.Sunrise,\n",
    "       line_color='#0072B2', line_dash='dotted', line_width=2,\n",
    "       legend_label=\"Sunrise\")\n",
    "\n",
    "start_date = time.mktime(dt(2013, 3, 31, 2, 0, 0).timetuple())*1000\n",
    "daylight_savings_start = Span(location=start_date,\n",
    "                              dimension='height', line_color='#009E73',\n",
    "                              line_dash='dashed', line_width=3)\n",
    "p.add_layout(daylight_savings_start)\n",
    "\n",
    "end_date = time.mktime(dt(2013, 10, 27, 3, 0, 0).timetuple())*1000\n",
    "daylight_savings_end = Span(location=end_date,\n",
    "                            dimension='height', line_color='#F0E442',\n",
    "                            line_dash='dashed', line_width=3)\n",
    "p.add_layout(daylight_savings_end)\n",
    "\n",
    "p.title.text = \"2013 Sunrise and Sunset times in Warsaw\"\n",
    "p.yaxis.axis_label = 'Time of Day'\n",
    "\n",
    "show(p)"
   ]
  },
  {
   "cell_type": "code",
   "execution_count": null,
   "id": "0e6bdacf",
   "metadata": {},
   "outputs": [],
   "source": []
  }
 ],
 "metadata": {
  "kernelspec": {
   "display_name": "Python 3 (ipykernel)",
   "language": "python",
   "name": "python3"
  },
  "language_info": {
   "codemirror_mode": {
    "name": "ipython",
    "version": 3
   },
   "file_extension": ".py",
   "mimetype": "text/x-python",
   "name": "python",
   "nbconvert_exporter": "python",
   "pygments_lexer": "ipython3",
   "version": "3.10.5"
  }
 },
 "nbformat": 4,
 "nbformat_minor": 5
}
